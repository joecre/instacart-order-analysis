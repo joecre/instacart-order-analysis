{
 "cells": [
  {
   "cell_type": "markdown",
   "id": "aa42e27f",
   "metadata": {},
   "source": [
    "> **Note:**  \n",
    "> This notebook was created using datasets provided by the TripleTen platform.  \n",
    "> The data files are not included in this repository.  \n",
    "> All outputs and visualizations have been preserved for review purposes.\n"
   ]
  },
  {
   "cell_type": "markdown",
   "id": "8ca2fc78",
   "metadata": {},
   "source": [
    "# Instacart Customer Order Analysis\n",
    "\n",
    "**Objective:**  \n",
    "Analyze customer order patterns and product reordering behavior using Instacart's open dataset to generate business insights.\n",
    "\n",
    "**Skills used:**  \n",
    "Data cleaning · Exploratory Data Analysis (EDA) · Data visualization · Pandas · Matplotlib\n",
    "\n",
    "**Data sources:**  \n",
    "Instacart’s 2017 Kaggle competition dataset, including orders, products, aisles, and department files.\n"
   ]
  },
  {
   "cell_type": "markdown",
   "id": "0a95917c",
   "metadata": {},
   "source": [
    "In this project, data on Instacart orders is cleaned. It is used to describe their customers' shopping habits. "
   ]
  },
  {
   "cell_type": "markdown",
   "id": "85821c99",
   "metadata": {},
   "source": [
    "## Step 1 : Load and Explore the Data"
   ]
  },
  {
   "cell_type": "code",
   "execution_count": 1,
   "id": "fbf1adab",
   "metadata": {},
   "outputs": [],
   "source": [
    "import pandas as pd\n",
    "import matplotlib.pyplot as plt"
   ]
  },
  {
   "cell_type": "code",
   "execution_count": 2,
   "id": "d58c2eca",
   "metadata": {},
   "outputs": [
    {
     "name": "stdout",
     "output_type": "stream",
     "text": [
      "instacart_orders.csv loaded successfully.\n",
      "<class 'pandas.core.frame.DataFrame'>\n",
      "RangeIndex: 478967 entries, 0 to 478966\n",
      "Data columns (total 6 columns):\n",
      " #   Column                  Non-Null Count   Dtype  \n",
      "---  ------                  --------------   -----  \n",
      " 0   order_id                478967 non-null  int64  \n",
      " 1   user_id                 478967 non-null  int64  \n",
      " 2   order_number            478967 non-null  int64  \n",
      " 3   order_dow               478967 non-null  int64  \n",
      " 4   order_hour_of_day       478967 non-null  int64  \n",
      " 5   days_since_prior_order  450148 non-null  float64\n",
      "dtypes: float64(1), int64(5)\n",
      "memory usage: 21.9 MB\n"
     ]
    },
    {
     "data": {
      "text/plain": [
       "None"
      ]
     },
     "metadata": {},
     "output_type": "display_data"
    },
    {
     "data": {
      "text/html": [
       "<div>\n",
       "<style scoped>\n",
       "    .dataframe tbody tr th:only-of-type {\n",
       "        vertical-align: middle;\n",
       "    }\n",
       "\n",
       "    .dataframe tbody tr th {\n",
       "        vertical-align: top;\n",
       "    }\n",
       "\n",
       "    .dataframe thead th {\n",
       "        text-align: right;\n",
       "    }\n",
       "</style>\n",
       "<table border=\"1\" class=\"dataframe\">\n",
       "  <thead>\n",
       "    <tr style=\"text-align: right;\">\n",
       "      <th></th>\n",
       "      <th>order_id</th>\n",
       "      <th>user_id</th>\n",
       "      <th>order_number</th>\n",
       "      <th>order_dow</th>\n",
       "      <th>order_hour_of_day</th>\n",
       "      <th>days_since_prior_order</th>\n",
       "    </tr>\n",
       "  </thead>\n",
       "  <tbody>\n",
       "    <tr>\n",
       "      <th>0</th>\n",
       "      <td>1515936</td>\n",
       "      <td>183418</td>\n",
       "      <td>11</td>\n",
       "      <td>6</td>\n",
       "      <td>13</td>\n",
       "      <td>30.0</td>\n",
       "    </tr>\n",
       "    <tr>\n",
       "      <th>1</th>\n",
       "      <td>1690866</td>\n",
       "      <td>163593</td>\n",
       "      <td>5</td>\n",
       "      <td>5</td>\n",
       "      <td>12</td>\n",
       "      <td>9.0</td>\n",
       "    </tr>\n",
       "    <tr>\n",
       "      <th>2</th>\n",
       "      <td>1454967</td>\n",
       "      <td>39980</td>\n",
       "      <td>4</td>\n",
       "      <td>5</td>\n",
       "      <td>19</td>\n",
       "      <td>2.0</td>\n",
       "    </tr>\n",
       "    <tr>\n",
       "      <th>3</th>\n",
       "      <td>1768857</td>\n",
       "      <td>82516</td>\n",
       "      <td>56</td>\n",
       "      <td>0</td>\n",
       "      <td>20</td>\n",
       "      <td>10.0</td>\n",
       "    </tr>\n",
       "    <tr>\n",
       "      <th>4</th>\n",
       "      <td>3007858</td>\n",
       "      <td>196724</td>\n",
       "      <td>2</td>\n",
       "      <td>4</td>\n",
       "      <td>12</td>\n",
       "      <td>17.0</td>\n",
       "    </tr>\n",
       "  </tbody>\n",
       "</table>\n",
       "</div>"
      ],
      "text/plain": [
       "   order_id  user_id  order_number  order_dow  order_hour_of_day  \\\n",
       "0   1515936   183418            11          6                 13   \n",
       "1   1690866   163593             5          5                 12   \n",
       "2   1454967    39980             4          5                 19   \n",
       "3   1768857    82516            56          0                 20   \n",
       "4   3007858   196724             2          4                 12   \n",
       "\n",
       "   days_since_prior_order  \n",
       "0                    30.0  \n",
       "1                     9.0  \n",
       "2                     2.0  \n",
       "3                    10.0  \n",
       "4                    17.0  "
      ]
     },
     "metadata": {},
     "output_type": "display_data"
    }
   ],
   "source": [
    "# Load orders data\n",
    "try:\n",
    "    orders = pd.read_csv('/datasets/instacart_orders.csv', sep=';')\n",
    "    print(\"instacart_orders.csv loaded successfully.\")\n",
    "    display(orders.info())\n",
    "    display(orders.head())\n",
    "except FileNotFoundError:\n",
    "    print(\"instacart_orders.csv not found. This notebook was developed on the TripleTen platform and requires that dataset.\")"
   ]
  },
  {
   "cell_type": "code",
   "execution_count": 3,
   "id": "5130e05e",
   "metadata": {},
   "outputs": [
    {
     "name": "stdout",
     "output_type": "stream",
     "text": [
      "products.csv loaded successfully.\n",
      "<class 'pandas.core.frame.DataFrame'>\n",
      "RangeIndex: 49694 entries, 0 to 49693\n",
      "Data columns (total 4 columns):\n",
      " #   Column         Non-Null Count  Dtype \n",
      "---  ------         --------------  ----- \n",
      " 0   product_id     49694 non-null  int64 \n",
      " 1   product_name   48436 non-null  object\n",
      " 2   aisle_id       49694 non-null  int64 \n",
      " 3   department_id  49694 non-null  int64 \n",
      "dtypes: int64(3), object(1)\n",
      "memory usage: 1.5+ MB\n"
     ]
    },
    {
     "data": {
      "text/plain": [
       "None"
      ]
     },
     "metadata": {},
     "output_type": "display_data"
    },
    {
     "data": {
      "text/html": [
       "<div>\n",
       "<style scoped>\n",
       "    .dataframe tbody tr th:only-of-type {\n",
       "        vertical-align: middle;\n",
       "    }\n",
       "\n",
       "    .dataframe tbody tr th {\n",
       "        vertical-align: top;\n",
       "    }\n",
       "\n",
       "    .dataframe thead th {\n",
       "        text-align: right;\n",
       "    }\n",
       "</style>\n",
       "<table border=\"1\" class=\"dataframe\">\n",
       "  <thead>\n",
       "    <tr style=\"text-align: right;\">\n",
       "      <th></th>\n",
       "      <th>product_id</th>\n",
       "      <th>product_name</th>\n",
       "      <th>aisle_id</th>\n",
       "      <th>department_id</th>\n",
       "    </tr>\n",
       "  </thead>\n",
       "  <tbody>\n",
       "    <tr>\n",
       "      <th>0</th>\n",
       "      <td>1</td>\n",
       "      <td>Chocolate Sandwich Cookies</td>\n",
       "      <td>61</td>\n",
       "      <td>19</td>\n",
       "    </tr>\n",
       "    <tr>\n",
       "      <th>1</th>\n",
       "      <td>2</td>\n",
       "      <td>All-Seasons Salt</td>\n",
       "      <td>104</td>\n",
       "      <td>13</td>\n",
       "    </tr>\n",
       "    <tr>\n",
       "      <th>2</th>\n",
       "      <td>3</td>\n",
       "      <td>Robust Golden Unsweetened Oolong Tea</td>\n",
       "      <td>94</td>\n",
       "      <td>7</td>\n",
       "    </tr>\n",
       "    <tr>\n",
       "      <th>3</th>\n",
       "      <td>4</td>\n",
       "      <td>Smart Ones Classic Favorites Mini Rigatoni Wit...</td>\n",
       "      <td>38</td>\n",
       "      <td>1</td>\n",
       "    </tr>\n",
       "    <tr>\n",
       "      <th>4</th>\n",
       "      <td>5</td>\n",
       "      <td>Green Chile Anytime Sauce</td>\n",
       "      <td>5</td>\n",
       "      <td>13</td>\n",
       "    </tr>\n",
       "  </tbody>\n",
       "</table>\n",
       "</div>"
      ],
      "text/plain": [
       "   product_id                                       product_name  aisle_id  \\\n",
       "0           1                         Chocolate Sandwich Cookies        61   \n",
       "1           2                                   All-Seasons Salt       104   \n",
       "2           3               Robust Golden Unsweetened Oolong Tea        94   \n",
       "3           4  Smart Ones Classic Favorites Mini Rigatoni Wit...        38   \n",
       "4           5                          Green Chile Anytime Sauce         5   \n",
       "\n",
       "   department_id  \n",
       "0             19  \n",
       "1             13  \n",
       "2              7  \n",
       "3              1  \n",
       "4             13  "
      ]
     },
     "metadata": {},
     "output_type": "display_data"
    }
   ],
   "source": [
    "# Load products data\n",
    "try:\n",
    "    products = pd.read_csv('/datasets/products.csv', sep=';')\n",
    "    print(\"products.csv loaded successfully.\")\n",
    "    display(products.info())\n",
    "    display(products.head())\n",
    "except FileNotFoundError:\n",
    "    print(\"products.csv not found. This notebook was developed on the TripleTen platform and requires that dataset.\")"
   ]
  },
  {
   "cell_type": "code",
   "execution_count": 4,
   "id": "d8370c05",
   "metadata": {},
   "outputs": [
    {
     "name": "stdout",
     "output_type": "stream",
     "text": [
      "aisles.csv loaded successfully.\n",
      "<class 'pandas.core.frame.DataFrame'>\n",
      "RangeIndex: 134 entries, 0 to 133\n",
      "Data columns (total 2 columns):\n",
      " #   Column    Non-Null Count  Dtype \n",
      "---  ------    --------------  ----- \n",
      " 0   aisle_id  134 non-null    int64 \n",
      " 1   aisle     134 non-null    object\n",
      "dtypes: int64(1), object(1)\n",
      "memory usage: 2.2+ KB\n"
     ]
    },
    {
     "data": {
      "text/plain": [
       "None"
      ]
     },
     "metadata": {},
     "output_type": "display_data"
    },
    {
     "data": {
      "text/html": [
       "<div>\n",
       "<style scoped>\n",
       "    .dataframe tbody tr th:only-of-type {\n",
       "        vertical-align: middle;\n",
       "    }\n",
       "\n",
       "    .dataframe tbody tr th {\n",
       "        vertical-align: top;\n",
       "    }\n",
       "\n",
       "    .dataframe thead th {\n",
       "        text-align: right;\n",
       "    }\n",
       "</style>\n",
       "<table border=\"1\" class=\"dataframe\">\n",
       "  <thead>\n",
       "    <tr style=\"text-align: right;\">\n",
       "      <th></th>\n",
       "      <th>aisle_id</th>\n",
       "      <th>aisle</th>\n",
       "    </tr>\n",
       "  </thead>\n",
       "  <tbody>\n",
       "    <tr>\n",
       "      <th>0</th>\n",
       "      <td>1</td>\n",
       "      <td>prepared soups salads</td>\n",
       "    </tr>\n",
       "    <tr>\n",
       "      <th>1</th>\n",
       "      <td>2</td>\n",
       "      <td>specialty cheeses</td>\n",
       "    </tr>\n",
       "    <tr>\n",
       "      <th>2</th>\n",
       "      <td>3</td>\n",
       "      <td>energy granola bars</td>\n",
       "    </tr>\n",
       "    <tr>\n",
       "      <th>3</th>\n",
       "      <td>4</td>\n",
       "      <td>instant foods</td>\n",
       "    </tr>\n",
       "    <tr>\n",
       "      <th>4</th>\n",
       "      <td>5</td>\n",
       "      <td>marinades meat preparation</td>\n",
       "    </tr>\n",
       "  </tbody>\n",
       "</table>\n",
       "</div>"
      ],
      "text/plain": [
       "   aisle_id                       aisle\n",
       "0         1       prepared soups salads\n",
       "1         2           specialty cheeses\n",
       "2         3         energy granola bars\n",
       "3         4               instant foods\n",
       "4         5  marinades meat preparation"
      ]
     },
     "metadata": {},
     "output_type": "display_data"
    }
   ],
   "source": [
    "# Load aisles data\n",
    "try:\n",
    "    aisles = pd.read_csv('/datasets/aisles.csv', sep=';')\n",
    "    print(\"aisles.csv loaded successfully.\")\n",
    "    display(aisles.info())\n",
    "    display(aisles.head())\n",
    "except FileNotFoundError:\n",
    "    print(\"aisles.csv not found. This notebook was developed on the TripleTen platform and requires that dataset.\")"
   ]
  },
  {
   "cell_type": "code",
   "execution_count": 5,
   "id": "59e2090f",
   "metadata": {},
   "outputs": [
    {
     "name": "stdout",
     "output_type": "stream",
     "text": [
      "departments.csv loaded successfully.\n",
      "<class 'pandas.core.frame.DataFrame'>\n",
      "RangeIndex: 21 entries, 0 to 20\n",
      "Data columns (total 2 columns):\n",
      " #   Column         Non-Null Count  Dtype \n",
      "---  ------         --------------  ----- \n",
      " 0   department_id  21 non-null     int64 \n",
      " 1   department     21 non-null     object\n",
      "dtypes: int64(1), object(1)\n",
      "memory usage: 464.0+ bytes\n"
     ]
    },
    {
     "data": {
      "text/plain": [
       "None"
      ]
     },
     "metadata": {},
     "output_type": "display_data"
    },
    {
     "data": {
      "text/html": [
       "<div>\n",
       "<style scoped>\n",
       "    .dataframe tbody tr th:only-of-type {\n",
       "        vertical-align: middle;\n",
       "    }\n",
       "\n",
       "    .dataframe tbody tr th {\n",
       "        vertical-align: top;\n",
       "    }\n",
       "\n",
       "    .dataframe thead th {\n",
       "        text-align: right;\n",
       "    }\n",
       "</style>\n",
       "<table border=\"1\" class=\"dataframe\">\n",
       "  <thead>\n",
       "    <tr style=\"text-align: right;\">\n",
       "      <th></th>\n",
       "      <th>department_id</th>\n",
       "      <th>department</th>\n",
       "    </tr>\n",
       "  </thead>\n",
       "  <tbody>\n",
       "    <tr>\n",
       "      <th>0</th>\n",
       "      <td>1</td>\n",
       "      <td>frozen</td>\n",
       "    </tr>\n",
       "    <tr>\n",
       "      <th>1</th>\n",
       "      <td>2</td>\n",
       "      <td>other</td>\n",
       "    </tr>\n",
       "    <tr>\n",
       "      <th>2</th>\n",
       "      <td>3</td>\n",
       "      <td>bakery</td>\n",
       "    </tr>\n",
       "    <tr>\n",
       "      <th>3</th>\n",
       "      <td>4</td>\n",
       "      <td>produce</td>\n",
       "    </tr>\n",
       "    <tr>\n",
       "      <th>4</th>\n",
       "      <td>5</td>\n",
       "      <td>alcohol</td>\n",
       "    </tr>\n",
       "  </tbody>\n",
       "</table>\n",
       "</div>"
      ],
      "text/plain": [
       "   department_id department\n",
       "0              1     frozen\n",
       "1              2      other\n",
       "2              3     bakery\n",
       "3              4    produce\n",
       "4              5    alcohol"
      ]
     },
     "metadata": {},
     "output_type": "display_data"
    }
   ],
   "source": [
    "# Load departments data\n",
    "try:\n",
    "    departments = pd.read_csv('/datasets/departments.csv', sep=';')\n",
    "    print(\"departments.csv loaded successfully.\")\n",
    "    display(departments.info())\n",
    "    display(departments.head())\n",
    "except FileNotFoundError:\n",
    "    print(\"departments.csv not found. This notebook was developed on the TripleTen platform and requires that dataset.\")"
   ]
  },
  {
   "cell_type": "code",
   "execution_count": 6,
   "id": "6fc81694",
   "metadata": {},
   "outputs": [
    {
     "name": "stdout",
     "output_type": "stream",
     "text": [
      "order_products.csv loaded successfully.\n",
      "<class 'pandas.core.frame.DataFrame'>\n",
      "RangeIndex: 4545007 entries, 0 to 4545006\n",
      "Data columns (total 4 columns):\n",
      " #   Column             Dtype  \n",
      "---  ------             -----  \n",
      " 0   order_id           int64  \n",
      " 1   product_id         int64  \n",
      " 2   add_to_cart_order  float64\n",
      " 3   reordered          int64  \n",
      "dtypes: float64(1), int64(3)\n",
      "memory usage: 138.7 MB\n"
     ]
    },
    {
     "data": {
      "text/plain": [
       "None"
      ]
     },
     "metadata": {},
     "output_type": "display_data"
    },
    {
     "data": {
      "text/html": [
       "<div>\n",
       "<style scoped>\n",
       "    .dataframe tbody tr th:only-of-type {\n",
       "        vertical-align: middle;\n",
       "    }\n",
       "\n",
       "    .dataframe tbody tr th {\n",
       "        vertical-align: top;\n",
       "    }\n",
       "\n",
       "    .dataframe thead th {\n",
       "        text-align: right;\n",
       "    }\n",
       "</style>\n",
       "<table border=\"1\" class=\"dataframe\">\n",
       "  <thead>\n",
       "    <tr style=\"text-align: right;\">\n",
       "      <th></th>\n",
       "      <th>order_id</th>\n",
       "      <th>product_id</th>\n",
       "      <th>add_to_cart_order</th>\n",
       "      <th>reordered</th>\n",
       "    </tr>\n",
       "  </thead>\n",
       "  <tbody>\n",
       "    <tr>\n",
       "      <th>0</th>\n",
       "      <td>2141543</td>\n",
       "      <td>11440</td>\n",
       "      <td>17.0</td>\n",
       "      <td>0</td>\n",
       "    </tr>\n",
       "    <tr>\n",
       "      <th>1</th>\n",
       "      <td>567889</td>\n",
       "      <td>1560</td>\n",
       "      <td>1.0</td>\n",
       "      <td>1</td>\n",
       "    </tr>\n",
       "    <tr>\n",
       "      <th>2</th>\n",
       "      <td>2261212</td>\n",
       "      <td>26683</td>\n",
       "      <td>1.0</td>\n",
       "      <td>1</td>\n",
       "    </tr>\n",
       "    <tr>\n",
       "      <th>3</th>\n",
       "      <td>491251</td>\n",
       "      <td>8670</td>\n",
       "      <td>35.0</td>\n",
       "      <td>1</td>\n",
       "    </tr>\n",
       "    <tr>\n",
       "      <th>4</th>\n",
       "      <td>2571142</td>\n",
       "      <td>1940</td>\n",
       "      <td>5.0</td>\n",
       "      <td>1</td>\n",
       "    </tr>\n",
       "  </tbody>\n",
       "</table>\n",
       "</div>"
      ],
      "text/plain": [
       "   order_id  product_id  add_to_cart_order  reordered\n",
       "0   2141543       11440               17.0          0\n",
       "1    567889        1560                1.0          1\n",
       "2   2261212       26683                1.0          1\n",
       "3    491251        8670               35.0          1\n",
       "4   2571142        1940                5.0          1"
      ]
     },
     "metadata": {},
     "output_type": "display_data"
    }
   ],
   "source": [
    "# Load order_products data\n",
    "try:\n",
    "    order_products = pd.read_csv('/datasets/order_products.csv', sep=';')\n",
    "    print(\"order_products.csv loaded successfully.\")\n",
    "    display(order_products.info())\n",
    "    display(order_products.head())\n",
    "except FileNotFoundError:\n",
    "    print(\"order_products.csv not found. This notebook was developed on the TripleTen platform and requires that dataset.\")"
   ]
  },
  {
   "cell_type": "markdown",
   "id": "2cec753b",
   "metadata": {},
   "source": [
    "Data from 5 data frames relate to Instacart's catalog and customer orders. "
   ]
  },
  {
   "cell_type": "markdown",
   "id": "07357848-dc64-4156-9cc3-01ff4365226d",
   "metadata": {},
   "source": [
    "## Find and remove duplicate values (and describe why you make your choices)"
   ]
  },
  {
   "cell_type": "markdown",
   "id": "26b8b7b0",
   "metadata": {},
   "source": [
    "## Step 2 : Handle Duplicates and Missing Values"
   ]
  },
  {
   "cell_type": "markdown",
   "id": "f179f0a9",
   "metadata": {},
   "source": [
    "### `orders` data frame"
   ]
  },
  {
   "cell_type": "code",
   "execution_count": 7,
   "id": "b99297a5-405a-463d-8535-9adc3da4ad74",
   "metadata": {},
   "outputs": [
    {
     "data": {
      "text/plain": [
       "('Duplicate orders:', 15)"
      ]
     },
     "execution_count": 7,
     "metadata": {},
     "output_type": "execute_result"
    }
   ],
   "source": [
    "# Check for duplicated orders\n",
    "duplicate_orders = orders.duplicated()\n",
    "(\"Duplicate orders:\", duplicate_orders.sum())"
   ]
  },
  {
   "cell_type": "code",
   "execution_count": 8,
   "id": "0d44de5d",
   "metadata": {},
   "outputs": [
    {
     "data": {
      "text/html": [
       "<div>\n",
       "<style scoped>\n",
       "    .dataframe tbody tr th:only-of-type {\n",
       "        vertical-align: middle;\n",
       "    }\n",
       "\n",
       "    .dataframe tbody tr th {\n",
       "        vertical-align: top;\n",
       "    }\n",
       "\n",
       "    .dataframe thead th {\n",
       "        text-align: right;\n",
       "    }\n",
       "</style>\n",
       "<table border=\"1\" class=\"dataframe\">\n",
       "  <thead>\n",
       "    <tr style=\"text-align: right;\">\n",
       "      <th></th>\n",
       "      <th>order_id</th>\n",
       "      <th>user_id</th>\n",
       "      <th>order_number</th>\n",
       "      <th>order_dow</th>\n",
       "      <th>order_hour_of_day</th>\n",
       "      <th>days_since_prior_order</th>\n",
       "    </tr>\n",
       "  </thead>\n",
       "  <tbody>\n",
       "    <tr>\n",
       "      <th>4838</th>\n",
       "      <td>2766110</td>\n",
       "      <td>162084</td>\n",
       "      <td>41</td>\n",
       "      <td>3</td>\n",
       "      <td>2</td>\n",
       "      <td>16.0</td>\n",
       "    </tr>\n",
       "    <tr>\n",
       "      <th>5156</th>\n",
       "      <td>2190225</td>\n",
       "      <td>138285</td>\n",
       "      <td>18</td>\n",
       "      <td>3</td>\n",
       "      <td>2</td>\n",
       "      <td>11.0</td>\n",
       "    </tr>\n",
       "    <tr>\n",
       "      <th>15506</th>\n",
       "      <td>553049</td>\n",
       "      <td>58599</td>\n",
       "      <td>13</td>\n",
       "      <td>3</td>\n",
       "      <td>2</td>\n",
       "      <td>7.0</td>\n",
       "    </tr>\n",
       "    <tr>\n",
       "      <th>18420</th>\n",
       "      <td>382357</td>\n",
       "      <td>120200</td>\n",
       "      <td>19</td>\n",
       "      <td>3</td>\n",
       "      <td>2</td>\n",
       "      <td>11.0</td>\n",
       "    </tr>\n",
       "    <tr>\n",
       "      <th>24691</th>\n",
       "      <td>690242</td>\n",
       "      <td>77357</td>\n",
       "      <td>2</td>\n",
       "      <td>3</td>\n",
       "      <td>2</td>\n",
       "      <td>9.0</td>\n",
       "    </tr>\n",
       "    <tr>\n",
       "      <th>...</th>\n",
       "      <td>...</td>\n",
       "      <td>...</td>\n",
       "      <td>...</td>\n",
       "      <td>...</td>\n",
       "      <td>...</td>\n",
       "      <td>...</td>\n",
       "    </tr>\n",
       "    <tr>\n",
       "      <th>457013</th>\n",
       "      <td>3384021</td>\n",
       "      <td>14881</td>\n",
       "      <td>6</td>\n",
       "      <td>3</td>\n",
       "      <td>2</td>\n",
       "      <td>30.0</td>\n",
       "    </tr>\n",
       "    <tr>\n",
       "      <th>458816</th>\n",
       "      <td>910166</td>\n",
       "      <td>164782</td>\n",
       "      <td>18</td>\n",
       "      <td>3</td>\n",
       "      <td>2</td>\n",
       "      <td>4.0</td>\n",
       "    </tr>\n",
       "    <tr>\n",
       "      <th>459635</th>\n",
       "      <td>1680532</td>\n",
       "      <td>106435</td>\n",
       "      <td>6</td>\n",
       "      <td>3</td>\n",
       "      <td>2</td>\n",
       "      <td>21.0</td>\n",
       "    </tr>\n",
       "    <tr>\n",
       "      <th>468324</th>\n",
       "      <td>222962</td>\n",
       "      <td>54979</td>\n",
       "      <td>59</td>\n",
       "      <td>3</td>\n",
       "      <td>2</td>\n",
       "      <td>3.0</td>\n",
       "    </tr>\n",
       "    <tr>\n",
       "      <th>477526</th>\n",
       "      <td>2592344</td>\n",
       "      <td>46860</td>\n",
       "      <td>38</td>\n",
       "      <td>3</td>\n",
       "      <td>2</td>\n",
       "      <td>3.0</td>\n",
       "    </tr>\n",
       "  </tbody>\n",
       "</table>\n",
       "<p>121 rows × 6 columns</p>\n",
       "</div>"
      ],
      "text/plain": [
       "        order_id  user_id  order_number  order_dow  order_hour_of_day  \\\n",
       "4838     2766110   162084            41          3                  2   \n",
       "5156     2190225   138285            18          3                  2   \n",
       "15506     553049    58599            13          3                  2   \n",
       "18420     382357   120200            19          3                  2   \n",
       "24691     690242    77357             2          3                  2   \n",
       "...          ...      ...           ...        ...                ...   \n",
       "457013   3384021    14881             6          3                  2   \n",
       "458816    910166   164782            18          3                  2   \n",
       "459635   1680532   106435             6          3                  2   \n",
       "468324    222962    54979            59          3                  2   \n",
       "477526   2592344    46860            38          3                  2   \n",
       "\n",
       "        days_since_prior_order  \n",
       "4838                      16.0  \n",
       "5156                      11.0  \n",
       "15506                      7.0  \n",
       "18420                     11.0  \n",
       "24691                      9.0  \n",
       "...                        ...  \n",
       "457013                    30.0  \n",
       "458816                     4.0  \n",
       "459635                    21.0  \n",
       "468324                     3.0  \n",
       "477526                     3.0  \n",
       "\n",
       "[121 rows x 6 columns]"
      ]
     },
     "execution_count": 8,
     "metadata": {},
     "output_type": "execute_result"
    }
   ],
   "source": [
    "# Check for all orders placed Wednesday at 2:00 AM\n",
    "wednesday_orders_at_2_am = orders[(orders['order_dow'] == 3) & (orders['order_hour_of_day'] == 2)]\n",
    "(wednesday_orders_at_2_am)"
   ]
  },
  {
   "cell_type": "code",
   "execution_count": 9,
   "id": "480563c7",
   "metadata": {},
   "outputs": [
    {
     "name": "stdout",
     "output_type": "stream",
     "text": [
      "Removed 15 duplicates\n"
     ]
    }
   ],
   "source": [
    "# Remove duplicate orders\n",
    "orders_cleaned = orders.drop_duplicates()\n",
    "print(\"Removed\", len(orders) - len(orders_cleaned), \"duplicates\")\n"
   ]
  },
  {
   "cell_type": "code",
   "execution_count": 10,
   "id": "0b2396a2",
   "metadata": {},
   "outputs": [
    {
     "name": "stdout",
     "output_type": "stream",
     "text": [
      "Duplicate orders: 0\n"
     ]
    }
   ],
   "source": [
    "# Double check for duplicate rows\n",
    "duplicate_orders = orders_cleaned.duplicated()\n",
    "print(\"Duplicate orders:\", duplicate_orders.sum())"
   ]
  },
  {
   "cell_type": "code",
   "execution_count": 11,
   "id": "f6113ef1",
   "metadata": {},
   "outputs": [
    {
     "name": "stdout",
     "output_type": "stream",
     "text": [
      "Duplicate order IDs: 0\n"
     ]
    }
   ],
   "source": [
    "# Double check for duplicate order IDs only\n",
    "duplicate_order_ids = orders_cleaned[\"order_id\"].duplicated().sum()\n",
    "print(\"Duplicate order IDs:\", duplicate_order_ids)"
   ]
  },
  {
   "cell_type": "markdown",
   "id": "45e6bc46",
   "metadata": {},
   "source": [
    "### `products` data frame"
   ]
  },
  {
   "cell_type": "code",
   "execution_count": 12,
   "id": "5f526b5b-8175-46fa-a0fd-441767d50e64",
   "metadata": {},
   "outputs": [
    {
     "data": {
      "text/plain": [
       "0"
      ]
     },
     "execution_count": 12,
     "metadata": {},
     "output_type": "execute_result"
    }
   ],
   "source": [
    "# Check for fully duplicate rows\n",
    "products_duplicated = products.duplicated()\n",
    "(products_duplicated.sum())"
   ]
  },
  {
   "cell_type": "code",
   "execution_count": 13,
   "id": "88daa4f4",
   "metadata": {},
   "outputs": [
    {
     "name": "stdout",
     "output_type": "stream",
     "text": [
      "Duplicate product IDs: 0\n"
     ]
    }
   ],
   "source": [
    "# Check for just duplicate product IDs\n",
    "duplicate_ids = products['product_id'].duplicated().sum()\n",
    "print(\"Duplicate product IDs:\", duplicate_ids)"
   ]
  },
  {
   "cell_type": "code",
   "execution_count": 14,
   "id": "c773f0bf",
   "metadata": {},
   "outputs": [
    {
     "name": "stdout",
     "output_type": "stream",
     "text": [
      "Duplicate product names: 1257\n"
     ]
    }
   ],
   "source": [
    "# Check for just duplicate product names (convert names to lowercase to compare better)\n",
    "duplicate_names = products['product_name'].duplicated().sum()\n",
    "print(\"Duplicate product names:\", duplicate_names)"
   ]
  },
  {
   "cell_type": "code",
   "execution_count": 15,
   "id": "01efd02e",
   "metadata": {},
   "outputs": [
    {
     "name": "stdout",
     "output_type": "stream",
     "text": [
      "Series([], Name: product_name, dtype: object)\n"
     ]
    }
   ],
   "source": [
    "# Check for duplicate product names that aren't missing\n",
    "duplicate_names = products['product_name'].duplicated() \n",
    "not_missing = ~products['product_name'].isna()  \n",
    "duplicates_not_missing = products['product_name'][duplicate_names & not_missing]\n",
    "print(duplicates_not_missing)\n"
   ]
  },
  {
   "cell_type": "markdown",
   "id": "60f30db1",
   "metadata": {},
   "source": [
    "### `departments` data frame"
   ]
  },
  {
   "cell_type": "code",
   "execution_count": 16,
   "id": "fb410ad4-0fbf-4b80-bb09-23fdea79afe3",
   "metadata": {},
   "outputs": [
    {
     "name": "stdout",
     "output_type": "stream",
     "text": [
      "The number of duplicated department ids is: 0\n"
     ]
    }
   ],
   "source": [
    "department_id_dups = departments['department_id'].duplicated().sum()\n",
    "print(\"The number of duplicated department ids is:\", department_id_dups)"
   ]
  },
  {
   "cell_type": "code",
   "execution_count": 17,
   "id": "332b12bb",
   "metadata": {},
   "outputs": [
    {
     "name": "stdout",
     "output_type": "stream",
     "text": [
      "The number of duplicated departments is: 0\n"
     ]
    }
   ],
   "source": [
    "department_dups = departments['department'].duplicated().sum()\n",
    "print(\"The number of duplicated departments is:\", department_dups)"
   ]
  },
  {
   "cell_type": "markdown",
   "id": "889349c1",
   "metadata": {},
   "source": [
    "### `aisles` data frame"
   ]
  },
  {
   "cell_type": "code",
   "execution_count": 18,
   "id": "9da89fb9-4679-40f5-ad0d-c34df753a3f8",
   "metadata": {},
   "outputs": [
    {
     "name": "stdout",
     "output_type": "stream",
     "text": [
      "The number of duplicated aisle ids is: 0\n"
     ]
    }
   ],
   "source": [
    "aisle_id_dups = aisles['aisle_id'].duplicated().sum()\n",
    "print(\"The number of duplicated aisle ids is:\", aisle_id_dups)"
   ]
  },
  {
   "cell_type": "code",
   "execution_count": 19,
   "id": "da7c2822",
   "metadata": {},
   "outputs": [
    {
     "name": "stdout",
     "output_type": "stream",
     "text": [
      "The number of duplicated aisles is: 0\n"
     ]
    }
   ],
   "source": [
    "aisle_dups = aisles['aisle'].duplicated().sum()\n",
    "print(\"The number of duplicated aisles is:\", aisle_dups)"
   ]
  },
  {
   "cell_type": "markdown",
   "id": "274cd06a",
   "metadata": {},
   "source": [
    "### `order_products` data frame"
   ]
  },
  {
   "cell_type": "code",
   "execution_count": 20,
   "id": "52326689-84a8-4b8f-a881-7c68780f62c9",
   "metadata": {},
   "outputs": [
    {
     "name": "stdout",
     "output_type": "stream",
     "text": [
      "Empty DataFrame\n",
      "Columns: [order_id, product_id, add_to_cart_order, reordered]\n",
      "Index: []\n"
     ]
    }
   ],
   "source": [
    "# Check for fullly duplicate rows\n",
    "fully_duplicated_rows = order_products[order_products.duplicated(keep=False)]\n",
    "print(fully_duplicated_rows)"
   ]
  },
  {
   "cell_type": "code",
   "execution_count": 21,
   "id": "7b861391",
   "metadata": {},
   "outputs": [
    {
     "name": "stdout",
     "output_type": "stream",
     "text": [
      "tricky duplicate entries: Empty DataFrame\n",
      "Columns: [order_id, product_id, add_to_cart_order, reordered]\n",
      "Index: []\n"
     ]
    }
   ],
   "source": [
    "# Double check for any other tricky duplicates\n",
    "tricky_duplicates = order_products[order_products.duplicated(subset=['order_id', 'product_id'], keep=False)]\n",
    "# Display tricky duplicates\n",
    "print(\"tricky duplicate entries:\", tricky_duplicates)\n"
   ]
  },
  {
   "cell_type": "markdown",
   "id": "1e46de76",
   "metadata": {},
   "source": [
    "## Find and remove missing values\n"
   ]
  },
  {
   "cell_type": "markdown",
   "id": "c0aebd78",
   "metadata": {},
   "source": [
    "### `products` data frame"
   ]
  },
  {
   "cell_type": "code",
   "execution_count": 22,
   "id": "e96167bc",
   "metadata": {},
   "outputs": [
    {
     "name": "stdout",
     "output_type": "stream",
     "text": [
      "Empty DataFrame\n",
      "Columns: [product_id, product_name, aisle_id, department_id]\n",
      "Index: []\n",
      "Are all missing product names associated with aisle ID 100? True\n"
     ]
    }
   ],
   "source": [
    "# Are all of the missing product names associated with aisle ID 100?\n",
    "print(products[(products['product_name'].isna()) & (products['aisle_id'] != 100)])\n",
    "\n",
    "missing_product_names = products['product_name'].isna()\n",
    "aisle_100_check = products[missing_product_names]['aisle_id'] == 100\n",
    "all_missing_associated_with_aisle_100 = aisle_100_check.all()\n",
    "print(\"Are all missing product names associated with aisle ID 100?\", all_missing_associated_with_aisle_100)"
   ]
  },
  {
   "cell_type": "code",
   "execution_count": 23,
   "id": "8fd0a541",
   "metadata": {},
   "outputs": [
    {
     "name": "stdout",
     "output_type": "stream",
     "text": [
      "Empty DataFrame\n",
      "Columns: [product_id, product_name, aisle_id, department_id]\n",
      "Index: []\n"
     ]
    }
   ],
   "source": [
    "# Are all of the missing product names associated with department ID 21?\n",
    "print(products[(products['product_name'].isna()) & (products['department_id'] != 21)])"
   ]
  },
  {
   "cell_type": "code",
   "execution_count": 24,
   "id": "325c3464",
   "metadata": {},
   "outputs": [
    {
     "name": "stdout",
     "output_type": "stream",
     "text": [
      "The aisle associated with ID 100 is: missing\n",
      "The department associated with ID 21 is: missing\n"
     ]
    }
   ],
   "source": [
    "# What is this ailse and department?\n",
    "# Assuming aisle_id = 100 and department_id = 21 correspond to the missing ones\n",
    "missing_aisle_id = 100\n",
    "missing_department_id = 21\n",
    "# Look up the aisle and department names for the missing IDs\n",
    "missing_aisle_name = aisles.loc[aisles['aisle_id'] == missing_aisle_id, 'aisle'].values[0]\n",
    "missing_department_name = departments.loc[departments['department_id'] == missing_department_id, 'department'].values[0]\n",
    "# Output the result\n",
    "print(f\"The aisle associated with ID 100 is: {missing_aisle_name}\")\n",
    "print(f\"The department associated with ID 21 is: {missing_department_name}\")\n"
   ]
  },
  {
   "cell_type": "code",
   "execution_count": 25,
   "id": "6b295120",
   "metadata": {},
   "outputs": [
    {
     "name": "stdout",
     "output_type": "stream",
     "text": [
      "product_id       0\n",
      "product_name     0\n",
      "aisle_id         0\n",
      "department_id    0\n",
      "dtype: int64\n"
     ]
    }
   ],
   "source": [
    "# Fill missing product names with 'Unknown'\n",
    "\n",
    "# Replace NaN values in 'product_name' with 'Unknown'\n",
    "products['product_name'] = products['product_name'].fillna('Unknown')\n",
    "# Verify that there are no more missing values in 'product_name'\n",
    "print(products.isnull().sum())  "
   ]
  },
  {
   "cell_type": "markdown",
   "id": "7eb45c86",
   "metadata": {},
   "source": [
    "### `orders` data frame"
   ]
  },
  {
   "cell_type": "code",
   "execution_count": 26,
   "id": "166e5a86",
   "metadata": {},
   "outputs": [
    {
     "name": "stdout",
     "output_type": "stream",
     "text": [
      "Missing 'days_since_prior_order' when it's not a customer's first order:\n",
      "Empty DataFrame\n",
      "Columns: [order_id, user_id, order_number, order_dow, order_hour_of_day, days_since_prior_order]\n",
      "Index: []\n"
     ]
    }
   ],
   "source": [
    "# Are there any missing values where it's not a customer's first order?\n",
    "not_first_orders = orders[(orders['days_since_prior_order'].isna()) &\n",
    "                             (orders['order_number'] != 1)]\n",
    "print(\"Missing 'days_since_prior_order' when it's not a customer's first order:\")\n",
    "print(not_first_orders)"
   ]
  },
  {
   "cell_type": "markdown",
   "id": "69dc9ca4",
   "metadata": {},
   "source": [
    "### `order_products` data frame"
   ]
  },
  {
   "cell_type": "code",
   "execution_count": 27,
   "id": "9a78e5ee",
   "metadata": {},
   "outputs": [
    {
     "data": {
      "text/plain": [
       "\"The maximum value in the 'add_to_cart_order' column is: 64.0\""
      ]
     },
     "execution_count": 27,
     "metadata": {},
     "output_type": "execute_result"
    }
   ],
   "source": [
    "# What are the min and max values in this column?\n",
    "# Find the minimum value for 'add_to_cart_order'\n",
    "min_value = order_products['add_to_cart_order'].min()\n",
    "# Find the maximum value for 'add_to_cart_order'\n",
    "max_value = order_products['add_to_cart_order'].max()\n",
    "# Display the results\n",
    "(f\"The minimum value in the 'add_to_cart_order' column is: {min_value}\")\n",
    "(f\"The maximum value in the 'add_to_cart_order' column is: {max_value}\")\n"
   ]
  },
  {
   "cell_type": "code",
   "execution_count": 28,
   "id": "ab9d0c2b",
   "metadata": {},
   "outputs": [],
   "source": [
    "# Save all order IDs with at least one missing value in 'add_to_cart_order'\n",
    "# Filter for rows with a missing 'add_to_cart_order' value\n",
    "orders_with_missing_cart_order = order_products[order_products['add_to_cart_order'].isna()]\n",
    "# Get unique order IDs for these orders\n",
    "missing_cart_order_ids = orders_with_missing_cart_order['order_id'].unique()\n",
    "# The variable 'missing_cart_order_ids' now holds all order IDs with at least one missing 'add_to_cart_order' value"
   ]
  },
  {
   "cell_type": "code",
   "execution_count": 29,
   "id": "54c31695",
   "metadata": {},
   "outputs": [
    {
     "data": {
      "text/plain": [
       "True"
      ]
     },
     "execution_count": 29,
     "metadata": {},
     "output_type": "execute_result"
    }
   ],
   "source": [
    "# Do all orders with missing values have more than 64 products?\n",
    "# Step 1: Identify missing values\n",
    "missing_add_to_cart = order_products[order_products['add_to_cart_order'].isnull()]\n",
    "# Step 2: Save unique order IDs with missing 'add_to_cart_order'\n",
    "missing_order_ids = missing_add_to_cart['order_id'].unique()\n",
    "# Step 3: Count the number of products in each order\n",
    "order_product_counts = order_products.groupby('order_id').size()\n",
    "# Step 4: Filter out the counts where orders have more than 64 products\n",
    "large_orders_with_missing_values = order_product_counts.loc[missing_order_ids] > 64\n",
    "# Step 5: Check if all such orders have more than 64 products\n",
    "all_large_orders = large_orders_with_missing_values.all()\n",
    "(all_large_orders)"
   ]
  },
  {
   "cell_type": "code",
   "execution_count": 30,
   "id": "7a987d08",
   "metadata": {},
   "outputs": [],
   "source": [
    "# Replace missing values with 999 and convert column to integer type\n",
    "# Replace NaN values in 'add_to_cart_order' column with 999\n",
    "order_products['add_to_cart_order'] = order_products['add_to_cart_order'].fillna(999)\n",
    "# Convert the 'add_to_cart_order' column to integer type\n",
    "order_products['add_to_cart_order'] = order_products['add_to_cart_order'].astype('Int64', errors='ignore')"
   ]
  },
  {
   "cell_type": "markdown",
   "id": "turkish-kidney",
   "metadata": {},
   "source": [
    "# [A] Easy (must complete all to pass)"
   ]
  },
  {
   "cell_type": "markdown",
   "id": "6535f060",
   "metadata": {},
   "source": [
    "## Step 3 : Analyze Shopping Habits"
   ]
  },
  {
   "cell_type": "markdown",
   "id": "short-capability",
   "metadata": {},
   "source": [
    "### [A1] Verify that the `'order_hour_of_day'` and `'order_dow'` values in the `orders` tables are sensible (i.e. `'order_hour_of_day'` ranges from 0 to 23 and `'order_dow'` ranges from 0 to 6)"
   ]
  },
  {
   "cell_type": "code",
   "execution_count": 31,
   "id": "growing-fruit",
   "metadata": {},
   "outputs": [
    {
     "name": "stdout",
     "output_type": "stream",
     "text": [
      "Unique hours: [0, 1, 2, 3, 4, 5, 6, 7, 8, 9, 10, 11, 12, 13, 14, 15, 16, 17, 18, 19, 20, 21, 22, 23]\n",
      "Unique days of week: [0, 1, 2, 3, 4, 5, 6]\n",
      "All 'order_hour_of_day' values are within the range 0-23.\n",
      "All 'order_dow' values are within the range 0-6.\n"
     ]
    }
   ],
   "source": [
    "\n",
    "# Check unique values in 'order_hour_of_day'\n",
    "unique_hours = orders['order_hour_of_day'].unique()\n",
    "print(\"Unique hours:\", sorted(unique_hours))\n",
    "# Check unique values in 'order_dow'\n",
    "unique_dow = orders['order_dow'].unique()\n",
    "print(\"Unique days of week:\", sorted(unique_dow))\n",
    "# Verify the range for 'order_hour_of_day'\n",
    "hour_out_of_range = orders[(orders['order_hour_of_day'] < 0) | (orders['order_hour_of_day'] > 23)]\n",
    "if hour_out_of_range.empty:\n",
    "    print(\"All 'order_hour_of_day' values are within the range 0-23.\")\n",
    "else:\n",
    "    print(\"There are 'order_hour_of_day' values out of the sensible range (0-23).\")\n",
    "# Verify the range for 'order_dow'\n",
    "dow_out_of_range = orders[(orders['order_dow'] < 0) | (orders['order_dow'] > 6)]\n",
    "if dow_out_of_range.empty:\n",
    "    print(\"All 'order_dow' values are within the range 0-6.\")\n",
    "else:\n",
    "    print(\"There are 'order_dow' values out of the sensible range (0-6).\")"
   ]
  },
  {
   "cell_type": "code",
   "execution_count": null,
   "id": "accessory-malaysia",
   "metadata": {},
   "outputs": [],
   "source": []
  },
  {
   "cell_type": "markdown",
   "id": "a6743a70",
   "metadata": {},
   "source": [
    "### [A2] What time of day do people shop for groceries?"
   ]
  },
  {
   "cell_type": "code",
   "execution_count": 32,
   "id": "a36cca27",
   "metadata": {},
   "outputs": [
    {
     "name": "stdout",
     "output_type": "stream",
     "text": [
      "0 23\n"
     ]
    },
    {
     "data": {
      "image/png": "[encoded data removed]",
      "text/plain": [
       "<Figure size 1200x600 with 1 Axes>"
      ]
     },
     "metadata": {},
     "output_type": "display_data"
    }
   ],
   "source": [
    "\n",
    "# Verify the hour of day range\n",
    "print(orders['order_hour_of_day'].min(), orders['order_hour_of_day'].max())\n",
    "# Count the number of orders for each hour\n",
    "order_counts_by_hour = orders['order_hour_of_day'].value_counts().sort_index()\n",
    "# Plot the distribution of orders by hour\n",
    "order_counts_by_hour.plot(kind='bar', figsize=(12, 6), title='Number of Orders by Hour of Day')\n",
    "# Show the plot\n",
    "plt.show()"
   ]
  },
  {
   "cell_type": "markdown",
   "id": "de0fd638",
   "metadata": {},
   "source": [
    "Most grocery shopping occurs between 9 AM and 5 PM"
   ]
  },
  {
   "cell_type": "markdown",
   "id": "documented-command",
   "metadata": {},
   "source": [
    "### [A3] What day of the week do people shop for groceries?"
   ]
  },
  {
   "cell_type": "code",
   "execution_count": 33,
   "id": "chief-digit",
   "metadata": {
    "scrolled": true
   },
   "outputs": [
    {
     "data": {
      "image/png": "[encoded data removed]",
      "text/plain": [
       "<Figure size 640x480 with 1 Axes>"
      ]
     },
     "metadata": {},
     "output_type": "display_data"
    }
   ],
   "source": [
    "# Assuming 'orders' is your DataFrame and it has a column named 'order_dow' for day of the week.\n",
    "order_counts = orders['order_dow'].value_counts().sort_index()\n",
    "plt.bar(order_counts.index, order_counts.values)\n",
    "plt.xlabel('Day of the Week')\n",
    "plt.ylabel('Number of Orders')\n",
    "plt.title('Orders by Day of the Week')\n",
    "plt.xticks(ticks=range(7), labels=['Sun', 'Mon', 'Tue', 'Wed', 'Thu', 'Fri', 'Sat'])  # Replace with actual day names if known\n",
    "plt.show()"
   ]
  },
  {
   "cell_type": "markdown",
   "id": "98fd70ff",
   "metadata": {},
   "source": [
    "Most grocery shopping occurs on Sunday "
   ]
  },
  {
   "cell_type": "markdown",
   "id": "cutting-concert",
   "metadata": {},
   "source": [
    "### [A4] How long do people wait until placing another order?"
   ]
  },
  {
   "cell_type": "code",
   "execution_count": 34,
   "id": "c231f523",
   "metadata": {},
   "outputs": [
    {
     "name": "stdout",
     "output_type": "stream",
     "text": [
      "count    450148.000000\n",
      "mean         11.101751\n",
      "std           9.189975\n",
      "min           0.000000\n",
      "25%           4.000000\n",
      "50%           7.000000\n",
      "75%          15.000000\n",
      "max          30.000000\n",
      "Name: days_since_prior_order, dtype: float64\n"
     ]
    }
   ],
   "source": [
    "# Calculate summary statistics\n",
    "summary_statistics = orders['days_since_prior_order'].describe()\n",
    "print(summary_statistics)"
   ]
  },
  {
   "cell_type": "markdown",
   "id": "tight-staff",
   "metadata": {},
   "source": [
    "# [B] Medium (must complete all to pass)"
   ]
  },
  {
   "cell_type": "markdown",
   "id": "packed-classic",
   "metadata": {},
   "source": [
    "### [B1] Is there a difference in `'order_hour_of_day'` distributions on Wednesdays and Saturdays? Plot the histograms for both days and describe the differences that you see."
   ]
  },
  {
   "cell_type": "code",
   "execution_count": 35,
   "id": "d89b8403",
   "metadata": {},
   "outputs": [],
   "source": [
    "wednesday_orders = orders[orders['order_dow'] == 3]\n",
    "saturday_orders = orders[orders['order_dow'] == 6]"
   ]
  },
  {
   "cell_type": "code",
   "execution_count": 36,
   "id": "94e54e8a",
   "metadata": {},
   "outputs": [
    {
     "data": {
      "image/png": "[encoded data removed]",
      "text/plain": [
       "<Figure size 1000x600 with 1 Axes>"
      ]
     },
     "metadata": {},
     "output_type": "display_data"
    }
   ],
   "source": [
    "plt.figure(figsize=(10, 6))\n",
    "\n",
    "plt.hist(wednesday_orders['order_hour_of_day'], bins=24, alpha=0.5, label='Wednesday')\n",
    "plt.hist(saturday_orders['order_hour_of_day'], bins=24, alpha=0.5, label='Saturday')\n",
    "\n",
    "plt.xlabel('Hour of Day')\n",
    "plt.ylabel('Number of Orders')\n",
    "plt.title('Distribution of Orders by Hour on Wednesday vs. Saturday')\n",
    "plt.xticks(range(0, 24))\n",
    "plt.legend()\n",
    "\n",
    "plt.show()"
   ]
  },
  {
   "cell_type": "markdown",
   "id": "99be6463",
   "metadata": {},
   "source": [
    "Orders on Saturdays are more numerous than on Wednesdays between 11 AM and 2 PM."
   ]
  },
  {
   "cell_type": "markdown",
   "id": "e3891143",
   "metadata": {},
   "source": [
    "### [B2] What's the distribution for the number of orders per customer?"
   ]
  },
  {
   "cell_type": "code",
   "execution_count": 37,
   "id": "d8c26c23",
   "metadata": {},
   "outputs": [],
   "source": [
    "orders_per_user = orders.groupby('user_id')['order_id'].count()"
   ]
  },
  {
   "cell_type": "code",
   "execution_count": 38,
   "id": "00e69a66",
   "metadata": {},
   "outputs": [
    {
     "data": {
      "image/png": "[encoded data removed]",
      "text/plain": [
       "<Figure size 640x480 with 1 Axes>"
      ]
     },
     "metadata": {},
     "output_type": "display_data"
    }
   ],
   "source": [
    "plt.hist(orders_per_user, bins=30)  # Adjust the bins as needed to get a clear picture\n",
    "plt.title('Distribution of Orders per Customer')\n",
    "plt.xlabel('Number of Orders')\n",
    "plt.ylabel('Number of Customers')\n",
    "plt.show()"
   ]
  },
  {
   "cell_type": "markdown",
   "id": "5b0eb608",
   "metadata": {},
   "source": [
    "Most customers place between 1 and 5 orders. "
   ]
  },
  {
   "cell_type": "markdown",
   "id": "54a0319c",
   "metadata": {},
   "source": [
    "### [B3] What are the top 20 popular products (display their id and name)?"
   ]
  },
  {
   "cell_type": "code",
   "execution_count": 39,
   "id": "86463fae",
   "metadata": {},
   "outputs": [
    {
     "name": "stdout",
     "output_type": "stream",
     "text": [
      "       product_id              product_name  reorder_count\n",
      "18104       24852                    Banana          55763\n",
      "9528        13176    Bag of Organic Bananas          44450\n",
      "15368       21137      Organic Strawberries          28639\n",
      "15936       21903      Organic Baby Spinach          26233\n",
      "34407       47209      Organic Hass Avocado          23629\n",
      "34828       47766           Organic Avocado          18743\n",
      "20285       27845        Organic Whole Milk          16251\n",
      "34725       47626               Large Lemon          15044\n",
      "20375       27966       Organic Raspberries          14748\n",
      "12193       16797              Strawberries          13945\n",
      "19088       26209                     Limes          13327\n",
      "16700       22935      Organic Yellow Onion          11145\n",
      "18186       24964            Organic Garlic          10411\n",
      "32792       45007          Organic Zucchini          10076\n",
      "36219       49683            Cucumber Kirby           9538\n",
      "20543       28204        Organic Fuji Apple           8989\n",
      "5978         8277  Apple Honeycrisp Organic           8836\n",
      "28607       39275       Organic Blueberries           8799\n",
      "4267         5876             Organic Lemon           8412\n",
      "35905       49235       Organic Half & Half           8389\n"
     ]
    },
    {
     "data": {
      "image/png": "[encoded data removed]",
      "text/plain": [
       "<Figure size 1000x800 with 1 Axes>"
      ]
     },
     "metadata": {},
     "output_type": "display_data"
    }
   ],
   "source": [
    "\n",
    "merged_df = pd.merge(order_products[order_products['reordered'] == 1], \n",
    "                     products, \n",
    "                     on='product_id', \n",
    "                     how='left')\n",
    "# Count reorders for each product\n",
    "reorder_counts = merged_df.groupby(['product_id', 'product_name']).size().reset_index(name='reorder_count')\n",
    "# Sort the values to find top reordered products\n",
    "top_reordered = reorder_counts.sort_values('reorder_count', ascending=False).head(20)\n",
    "# Display the top 20 items that are reordered most frequently\n",
    "print(top_reordered[['product_id', 'product_name', 'reorder_count']])\n",
    "# Create a bar chart\n",
    "plt.figure(figsize=(10,8))\n",
    "plt.barh(top_reordered['product_name'], top_reordered['reorder_count'], color='skyblue')\n",
    "plt.xlabel('Reorder Count')\n",
    "plt.ylabel('Product Name')\n",
    "plt.title('Top 20 Most Reordered Products')\n",
    "plt.gca().invert_yaxis()  # To display the highest count at the top\n",
    "plt.show()"
   ]
  },
  {
   "cell_type": "markdown",
   "id": "5c7a08e9",
   "metadata": {},
   "source": [
    "This chart displays the most reordered products. "
   ]
  },
  {
   "cell_type": "markdown",
   "id": "gross-theme",
   "metadata": {},
   "source": [
    "# [C] Hard (must complete at least two to pass)"
   ]
  },
  {
   "cell_type": "markdown",
   "id": "romantic-deposit",
   "metadata": {},
   "source": [
    "### [C1] How many items do people typically buy in one order? What does the distribution look like?"
   ]
  },
  {
   "cell_type": "code",
   "execution_count": 40,
   "id": "virtual-punch",
   "metadata": {},
   "outputs": [
    {
     "data": {
      "image/png": "[encoded data removed]",
      "text/plain": [
       "<Figure size 640x480 with 1 Axes>"
      ]
     },
     "metadata": {},
     "output_type": "display_data"
    }
   ],
   "source": [
    "order_item_counts = order_products.groupby('order_id')['product_id'].count().reset_index(name='item_count')\n",
    "order_item_counts['item_count'].describe()\n",
    "plt.hist(order_item_counts['item_count'], bins=range(1, order_item_counts['item_count'].max()+1), edgecolor='black')\n",
    "plt.title('Distribution of Items per Order')\n",
    "plt.xlabel('Number of Items')\n",
    "plt.ylabel('Frequency of Orders')\n",
    "plt.show()"
   ]
  },
  {
   "cell_type": "markdown",
   "id": "aa1bdebf",
   "metadata": {},
   "source": [
    "Most orders contain between 1 and 20 items."
   ]
  },
  {
   "cell_type": "markdown",
   "id": "5e6b5537",
   "metadata": {},
   "source": [
    "### [C2] What are the top 20 items that are reordered most frequently (display their names and product IDs)?"
   ]
  },
  {
   "cell_type": "code",
   "execution_count": 41,
   "id": "9374e55a",
   "metadata": {},
   "outputs": [
    {
     "name": "stdout",
     "output_type": "stream",
     "text": [
      "       product_id              product_name  reorder_count\n",
      "18104       24852                    Banana          55763\n",
      "9528        13176    Bag of Organic Bananas          44450\n",
      "15368       21137      Organic Strawberries          28639\n",
      "15936       21903      Organic Baby Spinach          26233\n",
      "34407       47209      Organic Hass Avocado          23629\n",
      "34828       47766           Organic Avocado          18743\n",
      "20285       27845        Organic Whole Milk          16251\n",
      "34725       47626               Large Lemon          15044\n",
      "20375       27966       Organic Raspberries          14748\n",
      "12193       16797              Strawberries          13945\n",
      "19088       26209                     Limes          13327\n",
      "16700       22935      Organic Yellow Onion          11145\n",
      "18186       24964            Organic Garlic          10411\n",
      "32792       45007          Organic Zucchini          10076\n",
      "36219       49683            Cucumber Kirby           9538\n",
      "20543       28204        Organic Fuji Apple           8989\n",
      "5978         8277  Apple Honeycrisp Organic           8836\n",
      "28607       39275       Organic Blueberries           8799\n",
      "4267         5876             Organic Lemon           8412\n",
      "35905       49235       Organic Half & Half           8389\n"
     ]
    }
   ],
   "source": [
    "merged_df = pd.merge(order_products[order_products['reordered'] == 1], \n",
    "                     products, \n",
    "                     on='product_id', \n",
    "                     how='left')\n",
    "# Count reorders for each product\n",
    "reorder_counts = merged_df.groupby(['product_id', 'product_name']).size().reset_index(name='reorder_count')\n",
    "# Sort the values to find top reordered products\n",
    "top_reordered = reorder_counts.sort_values('reorder_count', ascending=False).head(20)\n",
    "# Display the top 20 items that are reordered most frequently\n",
    "print(top_reordered[['product_id', 'product_name', 'reorder_count']])"
   ]
  },
  {
   "cell_type": "markdown",
   "id": "9d312b14",
   "metadata": {},
   "source": [
    "### [C3] For each product, what proportion of its orders are reorders?"
   ]
  },
  {
   "cell_type": "code",
   "execution_count": 42,
   "id": "8ae9f4b1",
   "metadata": {},
   "outputs": [
    {
     "name": "stdout",
     "output_type": "stream",
     "text": [
      "   product_id                                       product_name  \\\n",
      "0           1                         Chocolate Sandwich Cookies   \n",
      "1           2                                   All-Seasons Salt   \n",
      "2           3               Robust Golden Unsweetened Oolong Tea   \n",
      "3           4  Smart Ones Classic Favorites Mini Rigatoni Wit...   \n",
      "4           7                     Pure Coconut Water With Orange   \n",
      "\n",
      "   reorder_proportion  \n",
      "0            0.564286  \n",
      "1            0.000000  \n",
      "2            0.738095  \n",
      "3            0.510204  \n",
      "4            0.500000  \n"
     ]
    }
   ],
   "source": [
    "# Merge DataFrames on 'product_id'\n",
    "merged_df = pd.merge(order_products, products, on='product_id')\n",
    "# Group by 'product_id' and 'product_name', and calculate mean of 'reordered'\n",
    "reorder_proportions = merged_df.groupby(['product_id', 'product_name'])['reordered'].mean().reset_index()\n",
    "# Rename the 'reordered' column to something more descriptive\n",
    "reorder_proportions = reorder_proportions.rename(columns={'reordered': 'reorder_proportion'})\n",
    "# Now, reorder_proportions DataFrame contains each product, its ID, and its reorder proportion\n",
    "print(reorder_proportions.head())"
   ]
  },
  {
   "cell_type": "markdown",
   "id": "subject-boxing",
   "metadata": {},
   "source": [
    "### [C4] For each customer, what proportion of their products ordered are reorders?"
   ]
  },
  {
   "cell_type": "code",
   "execution_count": 43,
   "id": "medical-couple",
   "metadata": {
    "scrolled": true
   },
   "outputs": [
    {
     "data": {
      "text/plain": [
       "user_id\n",
       "2    0.038462\n",
       "4    0.000000\n",
       "5    0.666667\n",
       "6    0.000000\n",
       "7    0.928571\n",
       "dtype: float64"
      ]
     },
     "execution_count": 43,
     "metadata": {},
     "output_type": "execute_result"
    }
   ],
   "source": [
    "# Merge the dataframes on order_id to associate user_id with each product\n",
    "merged_df = pd.merge(orders[['order_id', 'user_id']], order_products[['order_id', 'product_id', 'reordered']], on='order_id')\n",
    "# Group by user_id\n",
    "grouped = merged_df.groupby('user_id')\n",
    "# Calculate the total number of reordered products per customer\n",
    "reordered_sum = grouped['reordered'].sum()\n",
    "# Count the number of products ordered by each customer\n",
    "order_count = grouped['product_id'].count()\n",
    "# Calculate the proportion of reorders\n",
    "proportion_reorders = reordered_sum / order_count\n",
    "# Display the result\n",
    "proportion_reorders.head()\n"
   ]
  },
  {
   "cell_type": "markdown",
   "id": "92d35137",
   "metadata": {},
   "source": [
    "### [C5] What are the top 20 items that people put in their carts first? "
   ]
  },
  {
   "cell_type": "code",
   "execution_count": 44,
   "id": "0ae57274",
   "metadata": {
    "scrolled": true
   },
   "outputs": [
    {
     "name": "stdout",
     "output_type": "stream",
     "text": [
      "   product_id  reorder_proportion\n",
      "0           1            0.564286\n",
      "1           2            0.000000\n",
      "2           3            0.738095\n",
      "3           4            0.510204\n",
      "4           7            0.500000\n"
     ]
    },
    {
     "data": {
      "image/png": "[encoded data removed]",
      "text/plain": [
       "<Figure size 1000x800 with 1 Axes>"
      ]
     },
     "metadata": {},
     "output_type": "display_data"
    }
   ],
   "source": [
    "# Step 1: Calculate the sum of reorders https://jupyterhub.tripleten-services.com/user/user-3-f692393f-201c-4106-8bd9-d4f8721e4d54/notebooks/86f5d001-fab3-4078-b174-98778c7e4224.ipynb#[C5]-What-are-the-top-20-items-that-people-put-in-their-carts-first?rs for each product\n",
    "reorders_sum = order_products.groupby('product_id')['reordered'].sum()\n",
    "\n",
    "# Step 2: Count the total number of orders for each product\n",
    "orders_count = order_products.groupby('product_id')['reordered'].count()\n",
    "\n",
    "# Step 3: Calculate the proportion of reorders\n",
    "proportion_reorders = reorders_sum / orders_count\n",
    "\n",
    "# Preparing the DataFrame\n",
    "proportion_df = proportion_reorders.reset_index()\n",
    "proportion_df.columns = ['product_id', 'reorder_proportion']\n",
    "\n",
    "# Step 5: Display the result\n",
    "print(proportion_df.head())  # Display the first few rows as an example\n",
    "\n",
    "first_in_cart = order_products[order_products['add_to_cart_order'] == 1]\n",
    "first_in_cart_counts = first_in_cart['product_id'].value_counts().reset_index()\n",
    "first_in_cart_counts.columns = ['product_id', 'first_added_count']\n",
    "top_first_added = first_in_cart_counts.merge(products, on='product_id')\n",
    "top_20_first_added = top_first_added.sort_values(by='first_added_count', ascending=False).head(20)\n",
    "plt.figure(figsize=(10,8))\n",
    "plt.barh(top_20_first_added['product_name'], top_20_first_added['first_added_count'])\n",
    "plt.xlabel('Number of Times Added First to Cart')\n",
    "plt.ylabel('Product Name')\n",
    "plt.title('Top 20 Products Added First to Cart')\n",
    "plt.gca().invert_yaxis()  # To display the product with the highest count at the top\n",
    "plt.show()\n"
   ]
  },
  {
   "cell_type": "markdown",
   "id": "1dc4f5d0",
   "metadata": {},
   "source": [
    "Here, products which were most frequently added to carts first are shown. "
   ]
  },
  {
   "cell_type": "markdown",
   "id": "8ee57caa",
   "metadata": {},
   "source": [
    "### Conclusion \n",
    "\n",
    "This project analyzes Instacart customer behavior to uncover patterns in grocery shopping habits. Most orders are placed between 9 AM and 5 PM, with Sunday being the most active day. Customers frequently reorder the same top 20 products, and a small group of users drives most repeat purchases. Visualizations highlight when and how people shop, including which products are most often added to carts first. These insights address complex business questions and support data-driven marketing and inventory strategies.\n",
    "\n"
   ]
  }
 ],
 "metadata": {
  "ExecuteTimeLog": [
   {
    "duration": 2021,
    "start_time": "2025-07-16T15:45:03.141Z"
   },
   {
    "duration": 166,
    "start_time": "2025-07-16T15:45:05.167Z"
   },
   {
    "duration": 64,
    "start_time": "2025-07-16T15:45:05.335Z"
   },
   {
    "duration": 16,
    "start_time": "2025-07-16T15:45:05.400Z"
   },
   {
    "duration": 15,
    "start_time": "2025-07-16T15:45:05.419Z"
   },
   {
    "duration": 789,
    "start_time": "2025-07-16T15:45:05.436Z"
   },
   {
    "duration": 99,
    "start_time": "2025-07-16T15:45:06.227Z"
   },
   {
    "duration": 11,
    "start_time": "2025-07-16T15:45:06.328Z"
   },
   {
    "duration": 117,
    "start_time": "2025-07-16T15:45:06.340Z"
   },
   {
    "duration": 94,
    "start_time": "2025-07-16T15:45:06.459Z"
   },
   {
    "duration": 37,
    "start_time": "2025-07-16T15:45:06.555Z"
   },
   {
    "duration": 12,
    "start_time": "2025-07-16T15:45:06.594Z"
   },
   {
    "duration": 3,
    "start_time": "2025-07-16T15:45:06.607Z"
   },
   {
    "duration": 4,
    "start_time": "2025-07-16T15:45:06.615Z"
   },
   {
    "duration": 7,
    "start_time": "2025-07-16T15:45:06.621Z"
   },
   {
    "duration": 3,
    "start_time": "2025-07-16T15:45:06.630Z"
   },
   {
    "duration": 3,
    "start_time": "2025-07-16T15:45:06.667Z"
   },
   {
    "duration": 4,
    "start_time": "2025-07-16T15:45:06.671Z"
   },
   {
    "duration": 3,
    "start_time": "2025-07-16T15:45:06.677Z"
   },
   {
    "duration": 821,
    "start_time": "2025-07-16T15:45:06.682Z"
   },
   {
    "duration": 708,
    "start_time": "2025-07-16T15:45:07.506Z"
   },
   {
    "duration": 9,
    "start_time": "2025-07-16T15:45:08.217Z"
   },
   {
    "duration": 6,
    "start_time": "2025-07-16T15:45:08.228Z"
   },
   {
    "duration": 5,
    "start_time": "2025-07-16T15:45:08.235Z"
   },
   {
    "duration": 30,
    "start_time": "2025-07-16T15:45:08.242Z"
   },
   {
    "duration": 4,
    "start_time": "2025-07-16T15:45:08.274Z"
   },
   {
    "duration": 31,
    "start_time": "2025-07-16T15:45:08.279Z"
   },
   {
    "duration": 5,
    "start_time": "2025-07-16T15:45:08.312Z"
   },
   {
    "duration": 287,
    "start_time": "2025-07-16T15:45:08.319Z"
   },
   {
    "duration": 43,
    "start_time": "2025-07-16T15:45:08.607Z"
   },
   {
    "duration": 22,
    "start_time": "2025-07-16T15:45:08.652Z"
   },
   {
    "duration": 199,
    "start_time": "2025-07-16T15:45:08.676Z"
   },
   {
    "duration": 144,
    "start_time": "2025-07-16T15:45:08.876Z"
   },
   {
    "duration": 20,
    "start_time": "2025-07-16T15:45:09.021Z"
   },
   {
    "duration": 23,
    "start_time": "2025-07-16T15:45:09.043Z"
   },
   {
    "duration": 237,
    "start_time": "2025-07-16T15:45:09.068Z"
   },
   {
    "duration": 39,
    "start_time": "2025-07-16T15:45:09.307Z"
   },
   {
    "duration": 134,
    "start_time": "2025-07-16T15:45:09.348Z"
   },
   {
    "duration": 885,
    "start_time": "2025-07-16T15:45:09.485Z"
   },
   {
    "duration": 414,
    "start_time": "2025-07-16T15:45:10.372Z"
   },
   {
    "duration": 690,
    "start_time": "2025-07-16T15:45:10.791Z"
   },
   {
    "duration": 946,
    "start_time": "2025-07-16T15:45:11.483Z"
   },
   {
    "duration": 577,
    "start_time": "2025-07-16T15:45:12.431Z"
   },
   {
    "duration": 406,
    "start_time": "2025-07-16T15:45:13.010Z"
   }
  ],
  "kernelspec": {
   "display_name": "Python 3 (ipykernel)",
   "language": "python",
   "name": "python3"
  },
  "language_info": {
   "codemirror_mode": {
    "name": "ipython",
    "version": 3
   },
   "file_extension": ".py",
   "mimetype": "text/x-python",
   "name": "python",
   "nbconvert_exporter": "python",
   "pygments_lexer": "ipython3",
   "version": "3.9.19"
  },
  "toc": {
   "base_numbering": 1,
   "nav_menu": {},
   "number_sections": true,
   "sideBar": true,
   "skip_h1_title": true,
   "title_cell": "Table of Contents",
   "title_sidebar": "Contents",
   "toc_cell": false,
   "toc_position": {},
   "toc_section_display": true,
   "toc_window_display": true
  }
 },
 "nbformat": 4,
 "nbformat_minor": 5
}
